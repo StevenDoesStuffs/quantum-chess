{
 "cells": [
  {
   "cell_type": "code",
   "execution_count": 1,
   "metadata": {},
   "outputs": [],
   "source": [
    "from util import *\n",
    "import parse\n",
    "import quantum"
   ]
  },
  {
   "cell_type": "code",
   "execution_count": 2,
   "metadata": {},
   "outputs": [],
   "source": [
    "_index, pos_map = parse.read_map('g1: f3(0.5~0) + h3(0.5~0), f3: g1(0.5~0) + g5(0.5~0), h3: g1(0.5~0) + g5(0.5~1), g5: f3(0.5~0) + h3(0.5~1)', 0)"
   ]
  },
  {
   "cell_type": "code",
   "execution_count": 3,
   "metadata": {},
   "outputs": [
    {
     "name": "stdout",
     "output_type": "stream",
     "text": [
      "  (0, 0)\t(1+0j)\n",
      "  (1, 1)\t(1+0j)\n",
      "  (2, 2)\t(1+0j)\n",
      "  (3, 3)\t(1+0j)\n",
      "  (4, 4)\t(1+0j)\n",
      "  (5, 5)\t(1+0j)\n",
      "  (6, 6)\t(1+0j)\n",
      "  (7, 7)\t(1+0j)\n",
      "  (8, 8)\t(1+0j)\n",
      "  (9, 9)\t(1+0j)\n",
      "  (10, 10)\t(1+0j)\n",
      "  (11, 11)\t(1+0j)\n",
      "  (12, 12)\t(1+0j)\n",
      "  (13, 13)\t(1+0j)\n",
      "  (14, 14)\t(1+0j)\n",
      "  (15, 15)\t(1+0j)\n",
      "  (16, 16)\t(1+0j)\n",
      "  (17, 17)\t(1+0j)\n",
      "  (18, 18)\t(1+0j)\n",
      "  (19, 19)\t(1+0j)\n",
      "  (20, 20)\t(1+0j)\n",
      "  (21, 21)\t(1+0j)\n",
      "  (22, 22)\t(1+0j)\n",
      "  (23, 23)\t(1+0j)\n",
      "  (24, 24)\t(1+0j)\n",
      "  :\t:\n",
      "  (42, 42)\t(1.0000000000000002+0j)\n",
      "  (43, 43)\t(1+0j)\n",
      "  (44, 44)\t(1+0j)\n",
      "  (45, 45)\t(1+0j)\n",
      "  (46, 46)\t(1+0j)\n",
      "  (47, 47)\t(1+0j)\n",
      "  (48, 52)\t6.123233995736767e-17j\n",
      "  (48, 48)\t(1.0000000000000002+0j)\n",
      "  (49, 49)\t(1+0j)\n",
      "  (50, 50)\t(1+0j)\n",
      "  (51, 51)\t(1+0j)\n",
      "  (52, 52)\t(1.0000000000000002+0j)\n",
      "  (52, 48)\t-6.123233995736767e-17j\n",
      "  (53, 53)\t(1+0j)\n",
      "  (54, 54)\t(1+0j)\n",
      "  (55, 55)\t(1+0j)\n",
      "  (56, 56)\t(1+0j)\n",
      "  (57, 57)\t(1+0j)\n",
      "  (58, 58)\t(1.0000000000000002+0j)\n",
      "  (58, 42)\t-6.123233995736767e-17j\n",
      "  (59, 59)\t(1+0j)\n",
      "  (60, 60)\t(1+0j)\n",
      "  (61, 61)\t(1+0j)\n",
      "  (62, 62)\t(1+0j)\n",
      "  (63, 63)\t(1+0j)\n"
     ]
    }
   ],
   "source": [
    "quantum.check_unitary(quantum.numeric_map(pos_map))"
   ]
  },
  {
   "cell_type": "code",
   "execution_count": 4,
   "metadata": {},
   "outputs": [
    {
     "name": "stdout",
     "output_type": "stream",
     "text": [
      "48\n",
      "42\n",
      "58\n",
      "52\n"
     ]
    }
   ],
   "source": [
    "print(Position('g1').value)\n",
    "print(Position('f3').value)\n",
    "print(Position('h3').value)\n",
    "print(Position('g5').value)"
   ]
  },
  {
   "cell_type": "code",
   "execution_count": null,
   "metadata": {},
   "outputs": [],
   "source": []
  }
 ],
 "metadata": {
  "interpreter": {
   "hash": "c3947138c4708311b08eb701c8b6393edf30f96db81d75ff2eba066421167420"
  },
  "kernelspec": {
   "display_name": "Python 3.9.7 64-bit ('quantum': virtualenv)",
   "name": "python3"
  },
  "language_info": {
   "codemirror_mode": {
    "name": "ipython",
    "version": 3
   },
   "file_extension": ".py",
   "mimetype": "text/x-python",
   "name": "python",
   "nbconvert_exporter": "python",
   "pygments_lexer": "ipython3",
   "version": "3.9.7"
  },
  "orig_nbformat": 4
 },
 "nbformat": 4,
 "nbformat_minor": 2
}
