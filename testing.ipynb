{
 "cells": [
  {
   "cell_type": "code",
   "execution_count": 1,
   "metadata": {},
   "outputs": [],
   "source": [
    "from util import *\n",
    "import parse\n",
    "import quantum"
   ]
  },
  {
   "cell_type": "code",
   "execution_count": 2,
   "metadata": {},
   "outputs": [],
   "source": [
    "_index, pos_map = parse.read_map('g1: f3(0.5~0) + h3(0.5~0), f3: g1(0.5~0) + g5(0.5~0), h3: g1(0.5~0) + g5(0.5~1), g5: f3(0.5~0) + h3(0.5~1)', 0)"
   ]
  },
  {
   "cell_type": "code",
   "execution_count": 3,
   "metadata": {},
   "outputs": [
    {
     "name": "stdout",
     "output_type": "stream",
     "text": [
      "csr\n"
     ]
    }
   ],
   "source": [
    "quantum.check_unitary(quantum.numeric_map(pos_map))"
   ]
  },
  {
   "cell_type": "code",
   "execution_count": 4,
   "metadata": {},
   "outputs": [
    {
     "name": "stdout",
     "output_type": "stream",
     "text": [
      "48\n",
      "42\n",
      "58\n",
      "52\n"
     ]
    }
   ],
   "source": [
    "print(Position('g1').value)\n",
    "print(Position('f3').value)\n",
    "print(Position('h3').value)\n",
    "print(Position('g5').value)"
   ]
  },
  {
   "cell_type": "code",
   "execution_count": null,
   "metadata": {},
   "outputs": [],
   "source": []
  }
 ],
 "metadata": {
  "interpreter": {
   "hash": "c3947138c4708311b08eb701c8b6393edf30f96db81d75ff2eba066421167420"
  },
  "kernelspec": {
   "display_name": "Python 3.9.7 64-bit ('quantum': virtualenv)",
   "name": "python3"
  },
  "language_info": {
   "codemirror_mode": {
    "name": "ipython",
    "version": 3
   },
   "file_extension": ".py",
   "mimetype": "text/x-python",
   "name": "python",
   "nbconvert_exporter": "python",
   "pygments_lexer": "ipython3",
   "version": "3.9.7"
  },
  "orig_nbformat": 4
 },
 "nbformat": 4,
 "nbformat_minor": 2
}
